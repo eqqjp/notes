{
  "nbformat": 4,
  "nbformat_minor": 0,
  "metadata": {
    "colab": {
      "name": "Colab-matmul.ipynb",
      "version": "0.3.2",
      "provenance": [],
      "collapsed_sections": [],
      "include_colab_link": true
    },
    "kernelspec": {
      "name": "python3",
      "display_name": "Python 3"
    },
    "accelerator": "GPU"
  },
  "cells": [
    {
      "cell_type": "markdown",
      "metadata": {
        "id": "view-in-github",
        "colab_type": "text"
      },
      "source": [
        ""
      ]
    },
    {
      "cell_type": "markdown",
      "metadata": {
        "id": "whsQQFdZihgd",
        "colab_type": "text"
      },
      "source": [
        "## Matrix Multiplication by OpenCL\n",
        "\n",
        "You can execute OpenCL C program on google colaboratory.  \n",
        "First set the runtime type for GPU.  \n",
        "Create C program of matrix multiplication for OpenCL as below."
      ]
    },
    {
      "cell_type": "code",
      "metadata": {
        "id": "ClMQHBhHiWCN",
        "colab_type": "code",
        "colab": {
          "base_uri": "https://localhost:8080/",
          "height": 34
        },
        "outputId": "9eaeffd2-4f67-47bf-cbd3-315dc5c48e58"
      },
      "source": [
        "%%file matmul.c\n",
        "#include <stdio.h>\n",
        "#include <stdlib.h>\n",
        "#include <time.h>\n",
        "#include <CL/cl.h>\n",
        "\n",
        "/* Maximum number of platforms */\n",
        "#define MAX_PLATFORM 2\n",
        "/* Maximum number of devices */\n",
        "#define MAX_DEVICE   4\n",
        "\n",
        "/* Kernel source program */\n",
        "const char* Source = \"\\n\" \\\n",
        "\"__kernel void test (                            \\n\" \\\n",
        "\"   const int n,                                 \\n\" \\\n",
        "\"   __global float* a,                           \\n\" \\\n",
        "\"   __global float* b,                           \\n\" \\\n",
        "\"   __global float* c                            \\n\" \\\n",
        "\"  )                                             \\n\" \\\n",
        "\"{                                               \\n\" \\\n",
        "\"  int idx = get_global_id(0);                   \\n\" \\\n",
        "\"  int col = idx % n;                            \\n\" \\\n",
        "\"  int row = idx / n;                            \\n\" \\\n",
        "\"  int k;                                        \\n\" \\\n",
        "\"  float sum = 0.0;                              \\n\" \\\n",
        "\"  if(idx < n * n) {                             \\n\" \\\n",
        "\"    for(k = 0; k < n; k++) {                    \\n\" \\\n",
        "\"      sum += a[col * n + k] * b[k * n + row];   \\n\" \\\n",
        "\"    }                                           \\n\" \\\n",
        "\"    c[col * n + row] = sum;                     \\n\" \\\n",
        "\"  }                                             \\n\" \\\n",
        "\"}                                               \\n\" \\\n",
        "\"\\n\";\n",
        "\n",
        "int main(int argc, char* argv[]) {\n",
        "    float*           a;                       // Matrix a\n",
        "    float*           b;                       // Matrix b\n",
        "    float*           c;                       // Matrix c = a * b\n",
        "    float*           d;                       // Matrix d = a * b\n",
        "    int              correct = 0;             // No. of correct data\n",
        "    int              i,j,k;                   // For work\n",
        "    clock_t          st, et;                  // Count time\n",
        "\n",
        "    cl_int           err;                     // Error code\n",
        "    cl_uint          nplatform = 0;           // No. of platforms\n",
        "    cl_platform_id   platforms[MAX_PLATFORM]; // Platform id buffer\n",
        "    cl_platform_id   platform = 0;            // Chosen platform id\n",
        "    cl_uint          ndevice = 0;             // No. of device\n",
        "    cl_device_id     devices[MAX_DEVICE];     // Device id buffer\n",
        "    cl_device_id     device = 0;              // Chosen device id\n",
        "\n",
        "    size_t           buildloglen;             // Build log length\n",
        "    char             buildlog[2048];          // Build log buffer\n",
        "    size_t           worksize = 0;            // Global work size\n",
        "\n",
        "    cl_context       context;                 // Context\n",
        "    cl_command_queue queue;                   // Command queue\n",
        "    cl_program       program;                 // Kernel program\n",
        "    cl_kernel        kernel;                  // Kernel object\n",
        "    cl_mem           cla;                     // Device memory for a\n",
        "    cl_mem           clb;                     // Device memory for b\n",
        "    cl_mem           clc;                     // Device memory for c\n",
        "    int              n;                       // Data size\n",
        "\n",
        "    n = 512;                                  // Data size\n",
        "    worksize = n * n;                         // Global work size\n",
        "\n",
        "    /* Make data */\n",
        "    a = (float *)malloc(sizeof(float) * n * n);\n",
        "    b = (float *)malloc(sizeof(float) * n * n);\n",
        "    c = (float *)malloc(sizeof(float) * n * n);\n",
        "    d = (float *)malloc(sizeof(float) * n * n);\n",
        "\n",
        "    for(i = 0; i < n; i++) {\n",
        "        for(j = 0; j < n; j++) {\n",
        "            a[i * n + j] = rand() / (float) RAND_MAX;\n",
        "            b[i * n + j] = rand() / (float) RAND_MAX;\n",
        "            c[i * n + j] = 0.0;\n",
        "            d[i * n + j] = 0.0;\n",
        "        }\n",
        "    }\n",
        "\n",
        "    /* Calculate d = a * b by CPU */\n",
        "    st = clock();\n",
        "    for(i = 0; i < n; i++) {\n",
        "        for(j = 0; j < n; j++) {\n",
        "            for(k = 0; k < n; k++) {\n",
        "                d[i * n + j] += a[i * n + k] * b[k * n + j];\n",
        "            }\n",
        "        }\n",
        "    }\n",
        "    et = clock();\n",
        "\n",
        "    printf(\"CPU[sec]: %f\\n\", (float)(et-st)/CLOCKS_PER_SEC);\n",
        "    st = clock();\n",
        "\n",
        "    /* Get platforms and choose the first */\n",
        "    err = clGetPlatformIDs(MAX_PLATFORM, platforms, &nplatform);\n",
        "    if(nplatform <= 0) {\n",
        "        printf(\"ERROR: Invalid number of platforms\\n\");\n",
        "        return EXIT_FAILURE;\n",
        "    } else {\n",
        "        platform = platforms[0];\n",
        "    }\n",
        "\n",
        "    /* Get devices and choose the first */\n",
        "    err = clGetDeviceIDs(platform, CL_DEVICE_TYPE_GPU, MAX_DEVICE, devices, &ndevice);\n",
        "    if(ndevice <= 0) {\n",
        "        printf(\"Choose CPU device\\n\");\n",
        "        err = clGetDeviceIDs(platform, CL_DEVICE_TYPE_CPU, MAX_DEVICE, devices, &ndevice);\n",
        "        device = devices[0];                    // Choose first cpu device\n",
        "    } else {\n",
        "        device = devices[0];                    // Choose first gpu device\n",
        "    }\n",
        "\n",
        "    /* Create context */\n",
        "    context = clCreateContext(NULL, 1, &device, NULL, NULL, &err);\n",
        "\n",
        "    /* Create command queue */\n",
        "    queue = clCreateCommandQueue(context, device, 0, &err);\n",
        "\n",
        "    /* Create program object */\n",
        "    program = clCreateProgramWithSource(context, 1, (const char **) &Source, 0, &err);\n",
        "\n",
        "    /* Build program */\n",
        "    err = clBuildProgram(program, 0, NULL, NULL, NULL, NULL);\n",
        "    if(err != CL_SUCCESS) {\n",
        "        printf(\"ERROR:clBuildProgram %d\\n\", err);\n",
        "        clGetProgramBuildInfo(program, device, CL_PROGRAM_BUILD_LOG, sizeof(buildlog), buildlog, &buildloglen);\n",
        "        printf(\"%s\\n\", buildlog);\n",
        "        return EXIT_FAILURE;\n",
        "    }\n",
        "\n",
        "    /* Create kernel object */\n",
        "    kernel = clCreateKernel(program, \"test\", &err);\n",
        "\n",
        "    /* Create buffer object and set copy flag */\n",
        "    cla = clCreateBuffer(context, CL_MEM_READ_ONLY|CL_MEM_COPY_HOST_PTR, sizeof(float) * n * n, a, &err);\n",
        "    /* Create buffer object for read */\n",
        "    clb = clCreateBuffer(context, CL_MEM_READ_ONLY, sizeof(float) * n * n, NULL, &err);\n",
        "    /* Create buffer object for write */\n",
        "    clc = clCreateBuffer(context, CL_MEM_WRITE_ONLY, sizeof(float) * n * n, NULL, &err);\n",
        "    /* Enqueue to write to a buffer */\n",
        "    err = clEnqueueWriteBuffer(queue, clb, CL_TRUE, 0, sizeof(float) * n * n, b, 0, NULL, NULL);\n",
        "\n",
        "    /* Set kernel argument */\n",
        "    err = clSetKernelArg(kernel, 0, sizeof(int), &n);\n",
        "    err = clSetKernelArg(kernel, 1, sizeof(cl_mem), &cla);\n",
        "    err = clSetKernelArg(kernel, 2, sizeof(cl_mem), &clb);\n",
        "    err = clSetKernelArg(kernel, 3, sizeof(cl_mem), &clc);\n",
        "\n",
        "    /* Enqueue to run the kernel */\n",
        "    err = clEnqueueNDRangeKernel(queue, kernel, 1, NULL, &worksize, NULL, 0, NULL, NULL);\n",
        "\n",
        "    /* Wait for queue execute */\n",
        "    clFinish(queue);\n",
        "\n",
        "    /* Enqueue to read from a buffer */\n",
        "    err = clEnqueueReadBuffer(queue, clc, CL_TRUE, 0, sizeof(float) * n * n, c, 0, NULL, NULL);\n",
        "\n",
        "    /* Decrement the reference count */\n",
        "    err = clReleaseMemObject(cla);\n",
        "    err = clReleaseMemObject(clb);\n",
        "    err = clReleaseMemObject(clc);\n",
        "    err = clReleaseKernel(kernel);\n",
        "    err = clReleaseProgram(program);\n",
        "    err = clReleaseCommandQueue(queue);\n",
        "    err = clReleaseContext(context);\n",
        "\n",
        "    et = clock();\n",
        "    printf(\"GPU[sec]: %f\\n\", (float)(et-st)/CLOCKS_PER_SEC);\n",
        "\n",
        "    /* Validate the results */\n",
        "    correct = 0;\n",
        "    for(i = 0; i < n * n; i++) {\n",
        "        if(abs(c[i] - d[i]) < 0.0000001) {\n",
        "            correct++;\n",
        "        }\n",
        "    }\n",
        "    if((n * n - correct) == 0) {\n",
        "        printf(\"No difference between CPU and GPU result\\n\");\n",
        "    } else {\n",
        "        printf(\"Miss = %d\\n\", n * n - correct);\n",
        "    }\n",
        "\n",
        "    free(a);\n",
        "    free(b);\n",
        "    free(c);\n",
        "    free(d);\n",
        "\n",
        "    return EXIT_SUCCESS;\n",
        "}"
      ],
      "execution_count": 1,
      "outputs": [
        {
          "output_type": "stream",
          "text": [
            "Writing matmul.c\n"
          ],
          "name": "stdout"
        }
      ]
    },
    {
      "cell_type": "markdown",
      "metadata": {
        "id": "37bfMSNsiy73",
        "colab_type": "text"
      },
      "source": [
        "Compile the program with OpenCL include file and link it with OpenCL library."
      ]
    },
    {
      "cell_type": "code",
      "metadata": {
        "id": "MB06sShTi1bv",
        "colab_type": "code",
        "colab": {}
      },
      "source": [
        "!cc -I /usr/local/cuda/include matmul.c /usr/local/cuda/lib64/libOpenCL.so"
      ],
      "execution_count": 0,
      "outputs": []
    },
    {
      "cell_type": "markdown",
      "metadata": {
        "id": "UWrFwFLKi8Vv",
        "colab_type": "text"
      },
      "source": [
        "Execute it."
      ]
    },
    {
      "cell_type": "code",
      "metadata": {
        "id": "uc6qOwcbi-iT",
        "colab_type": "code",
        "colab": {
          "base_uri": "https://localhost:8080/",
          "height": 69
        },
        "outputId": "b9b4bc6d-0f91-44c5-9c1c-ca15d206d3cb"
      },
      "source": [
        "!./a.out"
      ],
      "execution_count": 3,
      "outputs": [
        {
          "output_type": "stream",
          "text": [
            "CPU[sec]: 1.341345\n",
            "GPU[sec]: 0.457724\n",
            "No difference between CPU and GPU result\n"
          ],
          "name": "stdout"
        }
      ]
    }
  ]
}
